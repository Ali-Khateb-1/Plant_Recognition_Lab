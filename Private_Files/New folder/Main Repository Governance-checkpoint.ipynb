{
 "cells": [
  {
   "cell_type": "code",
   "execution_count": 1,
   "id": "40790270",
   "metadata": {},
   "outputs": [
    {
     "name": "stdout",
     "output_type": "stream",
     "text": [
      "تم نقل الملف إلى جذر المستودع الرئيسي بنجاح داخل WSL!\n"
     ]
    }
   ],
   "source": [
    "import shutil\n",
    "\n",
    "# تحديد المسار الأصلي والوجهة الجديدة داخل بيئة WSL\n",
    "source_path = \"/mnt/c/Users/ali/Desktop/Innovation_Hub_New - Copy/index.html\"\n",
    "destination_path = \"/mnt/c/Users/ali/Desktop/Innovation_Hub_New/index.html\"\n",
    "\n",
    "# نقل الملف إلى جذر المستودع الرئيسي\n",
    "shutil.move(source_path, destination_path)\n",
    "\n",
    "print(\"تم نقل الملف إلى جذر المستودع الرئيسي بنجاح داخل WSL!\")"
   ]
  },
  {
   "cell_type": "code",
   "execution_count": 2,
   "id": "56420d01",
   "metadata": {},
   "outputs": [],
   "source": [
    "!cd /mnt/c/Users/ali/Desktop/Innovation_Hub_New"
   ]
  },
  {
   "cell_type": "code",
   "execution_count": 3,
   "id": "4b595d96",
   "metadata": {},
   "outputs": [
    {
     "name": "stdout",
     "output_type": "stream",
     "text": [
      "On branch main\r\n",
      "nothing to commit, working tree clean\r\n"
     ]
    }
   ],
   "source": [
    "!git add .\n",
    "!git commit -m \"Synchronized submodules from Jupyter Notebook\"\n"
   ]
  },
  {
   "cell_type": "code",
   "execution_count": 4,
   "id": "f7b4b415",
   "metadata": {},
   "outputs": [
    {
     "data": {
      "text/plain": [
       "True"
      ]
     },
     "execution_count": 4,
     "metadata": {},
     "output_type": "execute_result"
    },
    {
     "name": "stderr",
     "output_type": "stream",
     "text": [
      "[14849:14849:0527/170718.233309:ERROR:ui/ozone/platform/x11/ozone_platform_x11.cc:249] Missing X server or $DISPLAY\n",
      "[14849:14849:0527/170718.234614:ERROR:ui/aura/env.cc:257] The platform failed to initialize.  Exiting.\n"
     ]
    }
   ],
   "source": [
    "import webbrowser\n",
    "\n",
    "# مسار الصفحة داخل Windows عبر WSL\n",
    "html_path = \"file:///mnt/c/Users/ali/Desktop/Innovation_Hub_New/index.html\"\n",
    "\n",
    "# فتح الصفحة تلقائيًا في المتصفح\n",
    "webbrowser.open(html_path)"
   ]
  },
  {
   "cell_type": "code",
   "execution_count": 5,
   "id": "c6d25600",
   "metadata": {},
   "outputs": [
    {
     "data": {
      "text/plain": [
       "True"
      ]
     },
     "execution_count": 5,
     "metadata": {},
     "output_type": "execute_result"
    },
    {
     "name": "stderr",
     "output_type": "stream",
     "text": [
      "[15008:15008:0527/171026.881817:ERROR:ui/ozone/platform/x11/ozone_platform_x11.cc:249] Missing X server or $DISPLAY\n",
      "[15008:15008:0527/171026.881880:ERROR:ui/aura/env.cc:257] The platform failed to initialize.  Exiting.\n"
     ]
    }
   ],
   "source": [
    "import webbrowser\n",
    "\n",
    "# ضبط مسار الملف ليتوافق مع WSL و Windows\n",
    "html_path = \"file:///mnt/c/Users/ali/Desktop/Innovation_Hub_New/index.html\"\n",
    "\n",
    "# فتح الصفحة تلقائيًا\n",
    "webbrowser.open(html_path)"
   ]
  },
  {
   "cell_type": "code",
   "execution_count": 6,
   "id": "b2d5486e",
   "metadata": {},
   "outputs": [
    {
     "name": "stdout",
     "output_type": "stream",
     "text": [
      "✔️ تمت تهيئة الأرشيف بنجاح، وتم تحديث ملف requirements.txt!\n"
     ]
    }
   ],
   "source": [
    "import os\n",
    "\n",
    "# تعريف المسار الرئيسي للمشروع\n",
    "base_path = \"/mnt/c/Users/ali/Desktop/Innovation_Hub_New/archive\"\n",
    "\n",
    "# إنشاء المجلدات وفق الهيكلية المتفق عليها\n",
    "folders = [\"user_testing\", \"models\", \"analysis\", \"site\"]\n",
    "\n",
    "for folder in folders:\n",
    "    os.makedirs(os.path.join(base_path, folder), exist_ok=True)\n",
    "\n",
    "# إنشاء ملف requirements.txt داخل مجلد site\n",
    "requirements_path = os.path.join(base_path, \"site\", \"requirements.txt\")\n",
    "\n",
    "# إضافة المعلومات المطلوبة إلى requirements.txt\n",
    "with open(requirements_path, \"w\") as req_file:\n",
    "    req_file.write(\"# متطلبات تشغيل الموقع داخل WSL\\n\")\n",
    "    req_file.write(\"xdg-utils  # مثبت بالفعل على النظام (1.1.3-4.1ubuntu3)\\n\")\n",
    "\n",
    "# تأكيد نجاح العملية\n",
    "print(\"✔️ تمت تهيئة الأرشيف بنجاح، وتم تحديث ملف requirements.txt!\")"
   ]
  },
  {
   "cell_type": "code",
   "execution_count": 7,
   "id": "0b3657c1",
   "metadata": {},
   "outputs": [
    {
     "data": {
      "text/plain": [
       "True"
      ]
     },
     "execution_count": 7,
     "metadata": {},
     "output_type": "execute_result"
    },
    {
     "name": "stderr",
     "output_type": "stream",
     "text": [
      "[15274:15274:0527/173409.630614:ERROR:ui/ozone/platform/x11/ozone_platform_x11.cc:249] Missing X server or $DISPLAY\n",
      "[15274:15274:0527/173409.633242:ERROR:ui/aura/env.cc:257] The platform failed to initialize.  Exiting.\n"
     ]
    }
   ],
   "source": [
    "import webbrowser\n",
    "\n",
    "# تحديد المسار الصحيح للملف داخل Windows عبر WSL\n",
    "html_path = \"file:///mnt/c/Users/ali/Desktop/Innovation_Hub_New/index.html\"\n",
    "\n",
    "# فتح الصفحة داخل المتصفح الافتراضي\n",
    "webbrowser.open(html_path)"
   ]
  },
  {
   "cell_type": "code",
   "execution_count": 8,
   "id": "6e2b2ff5",
   "metadata": {},
   "outputs": [
    {
     "data": {
      "text/plain": [
       "True"
      ]
     },
     "execution_count": 8,
     "metadata": {},
     "output_type": "execute_result"
    },
    {
     "name": "stderr",
     "output_type": "stream",
     "text": [
      "[15427:15427:0527/173516.821380:ERROR:ui/ozone/platform/x11/ozone_platform_x11.cc:249] Missing X server or $DISPLAY\n",
      "[15427:15427:0527/173516.821422:ERROR:ui/aura/env.cc:257] The platform failed to initialize.  Exiting.\n"
     ]
    }
   ],
   "source": [
    "import webbrowser\n",
    "webbrowser.open(\"file:///mnt/c/Users/ali/Desktop/Innovation_Hub_New/index.html\")"
   ]
  },
  {
   "cell_type": "code",
   "execution_count": 10,
   "id": "413ce1cb",
   "metadata": {},
   "outputs": [],
   "source": [
    "with open(\"/mnt/c/Users/ali/Desktop/Innovation_Hub_New/archive/site/requirements.txt\", \"w\") as file:\n",
    "    file.write(\"\"\"# متطلبات تشغيل الموقع داخل WSL\n",
    "xdg-utils  # مثبت بالفعل على النظام (1.1.3-4.1ubuntu3)\n",
    "\n",
    "# مكتبات تشغيل النماذج الذكية على الهاتف\n",
    "torch\n",
    "torchvision\n",
    "torchaudio\n",
    "tensorflow\n",
    "tensorflow-lite\n",
    "\"\"\")"
   ]
  },
  {
   "cell_type": "code",
   "execution_count": 11,
   "id": "167d1b85",
   "metadata": {},
   "outputs": [],
   "source": [
    "with open(\"/mnt/c/Users/ali/Desktop/Innovation_Hub_New/archive/site/README.md\", \"w\") as file:\n",
    "    file.write(\"\"\"# Innovation Hub New  \n",
    "موقع مصمم لاستضافة المشاريع الديناميكية باستخدام GitHub Pages وربط المستودعات الفرعية لتنفيذ النماذج الذكية وتحليل البيانات.  \n",
    "\n",
    "## 🔹 الأهداف:  \n",
    "- تبسيط إدارة المستودعات الفرعية.  \n",
    "- دعم تشغيل الأكواد الذكية داخل بيئات مختلفة.  \n",
    "- توفير واجهة مرنة لتشغيل النماذج الذكية داخل التطبيقات.  \n",
    "\n",
    "## 🔹 طريقة العمل:  \n",
    "- تشغيل `index.html` كواجهة رئيسية للموقع.  \n",
    "- الاتصال بالمستودعات الفرعية للحصول على البيانات وتنفيذ الأكواد في الخلفية.  \n",
    "- دعم تشغيل الموقع عبر `WSL` وتهيئة بيئة التطوير المناسبة.  \n",
    "\n",
    "## 🔹 المتطلبات:  \n",
    "- `xdg-utils` (للتحكم في تشغيل الملفات داخل WSL).  \n",
    "- `torch`, `tensorflow` (لإدارة النماذج الذكية).  \n",
    "\"\"\")"
   ]
  },
  {
   "cell_type": "code",
   "execution_count": 12,
   "id": "9d52e9f4",
   "metadata": {},
   "outputs": [],
   "source": [
    "import os\n",
    "\n",
    "workflow_path = \"/mnt/c/Users/ali/Desktop/Innovation_Hub_New/.github/workflows\"\n",
    "os.makedirs(workflow_path, exist_ok=True)"
   ]
  },
  {
   "cell_type": "code",
   "execution_count": 13,
   "id": "8b7de03d",
   "metadata": {},
   "outputs": [
    {
     "name": "stdout",
     "output_type": "stream",
     "text": [
      "✅ تم إنشاء /mnt/c/Users/ali/Desktop/Innovation_Hub_New/.github/workflows/gh-pages.yml بنجاح!\n"
     ]
    }
   ],
   "source": [
    "workflow_file = \"/mnt/c/Users/ali/Desktop/Innovation_Hub_New/.github/workflows/gh-pages.yml\"\n",
    "\n",
    "workflow_content = \"\"\"name: Deploy to GitHub Pages\n",
    "on:\n",
    "  push:\n",
    "    branches:\n",
    "      - main\n",
    "\n",
    "permissions:\n",
    "  contents: read\n",
    "  pages: write\n",
    "  id-token: write\n",
    "\n",
    "jobs:\n",
    "  deploy:\n",
    "    runs-on: ubuntu-latest\n",
    "    steps:\n",
    "      - name: Checkout Repository\n",
    "        uses: actions/checkout@v3\n",
    "\n",
    "      - name: Setup Pages\n",
    "        uses: actions/configure-pages@v3\n",
    "\n",
    "      - name: Build and Upload\n",
    "        uses: actions/upload-pages-artifact@v2\n",
    "\n",
    "      - name: Deploy Site\n",
    "        uses: actions/deploy-pages@v2\n",
    "\"\"\"\n",
    "\n",
    "# حفظ الملف ثم طباعة تأكيد\n",
    "with open(workflow_file, \"w\") as file:\n",
    "    file.write(workflow_content)\n",
    "\n",
    "print(f\"✅ تم إنشاء {workflow_file} بنجاح!\")"
   ]
  },
  {
   "cell_type": "code",
   "execution_count": 14,
   "id": "b5f79cac",
   "metadata": {},
   "outputs": [
    {
     "name": "stdout",
     "output_type": "stream",
     "text": [
      "# متطلبات تشغيل الموقع داخل WSL\n",
      "xdg-utils  # مثبت بالفعل على النظام (1.1.3-4.1ubuntu3)\n",
      "\n",
      "# مكتبات تشغيل النماذج الذكية على الهاتف\n",
      "torch\n",
      "torchvision\n",
      "torchaudio\n",
      "tensorflow\n",
      "tensorflow-lite\n",
      "\n",
      "name: Deploy to GitHub Pages\n",
      "on:\n",
      "  push:\n",
      "    branches:\n",
      "      - main\n",
      "\n",
      "permissions:\n",
      "  contents: read\n",
      "  pages: write\n",
      "  id-token: write\n",
      "\n",
      "jobs:\n",
      "  deploy:\n",
      "    runs-on: ubuntu-latest\n",
      "    steps:\n",
      "      - name: Checkout Repository\n",
      "        uses: actions/checkout@v3\n",
      "\n",
      "      - name: Setup Pages\n",
      "        uses: actions/configure-pages@v3\n",
      "\n",
      "      - name: Build and Upload\n",
      "        uses: actions/upload-pages-artifact@v2\n",
      "\n",
      "      - name: Deploy Site\n",
      "        uses: actions/deploy-pages@v2\n",
      "\n"
     ]
    }
   ],
   "source": [
    "with open(\"/mnt/c/Users/ali/Desktop/Innovation_Hub_New/archive/site/requirements.txt\", \"r\") as file:\n",
    "    print(file.read())\n",
    "\n",
    "with open(\"/mnt/c/Users/ali/Desktop/Innovation_Hub_New/.github/workflows/gh-pages.yml\", \"r\") as file:\n",
    "    print(file.read())"
   ]
  },
  {
   "cell_type": "code",
   "execution_count": 15,
   "id": "69470a2f",
   "metadata": {},
   "outputs": [
    {
     "name": "stdout",
     "output_type": "stream",
     "text": [
      "✅ تم تحديث /mnt/c/Users/ali/Desktop/Innovation_Hub_New/archive/site/README.md بنجاح!\n"
     ]
    }
   ],
   "source": [
    "readme_file = \"/mnt/c/Users/ali/Desktop/Innovation_Hub_New/archive/site/README.md\"\n",
    "\n",
    "readme_content = \"\"\"# Innovation Hub New  \n",
    "موقع مصمم لاستضافة المشاريع الديناميكية باستخدام GitHub Pages وربط المستودعات الفرعية لتنفيذ النماذج الذكية وتحليل البيانات.  \n",
    "\n",
    "## 🔹 الأهداف:  \n",
    "- تبسيط إدارة المستودعات الفرعية.  \n",
    "- دعم تشغيل الأكواد الذكية داخل بيئات مختلفة.  \n",
    "- توفير واجهة مرنة لتشغيل النماذج الذكية داخل التطبيقات.  \n",
    "\n",
    "## 🔹 طريقة العمل:  \n",
    "- تشغيل `index.html` كواجهة رئيسية للموقع.  \n",
    "- الاتصال بالمستودعات الفرعية للحصول على البيانات وتنفيذ الأكواد في الخلفية.  \n",
    "- دعم تشغيل الموقع عبر `WSL` وتهيئة بيئة التطوير المناسبة.  \n",
    "\n",
    "## 🔹 المتطلبات:  \n",
    "- `xdg-utils` (للتحكم في تشغيل الملفات داخل WSL).  \n",
    "- `torch`, `tensorflow` (لإدارة النماذج الذكية).  \n",
    "- **`requirements.txt`**: يحتوي على مكتبات التشغيل المطلوبة لضمان عمل الموقع بسلاسة، ويتم تحديثه وفقًا لاحتياجات المشروع.  \n",
    "- **`.github/workflows/gh-pages.yml`**: ملف `GitHub Actions` المسؤول عن نشر الموقع تلقائيًا، مما يسمح بدمج المستودعات الفرعية وتنفيذ الأكواد الذكية أثناء النشر.  \n",
    "\n",
    "## 🔹 إدارة النماذج المدربة  \n",
    "- يتم الاحتفاظ بالنماذج داخل المستودعات الفرعية لضمان التنظيم والاستقلالية.  \n",
    "- يمكن دمج النماذج المدربة داخل الموقع مباشرةً أو استدعاؤها أثناء التشغيل لتوفير تجربة ديناميكية.  \n",
    "\"\"\"\n",
    "\n",
    "with open(readme_file, \"w\") as file:\n",
    "    file.write(readme_content)\n",
    "\n",
    "print(f\"✅ تم تحديث {readme_file} بنجاح!\")"
   ]
  },
  {
   "cell_type": "code",
   "execution_count": 16,
   "id": "ebd91017",
   "metadata": {},
   "outputs": [
    {
     "name": "stdout",
     "output_type": "stream",
     "text": [
      "[main 0f7756f] رفع README.md مع التعديلات الجديدة\n",
      " 1 file changed, 22 insertions(+)\n",
      " create mode 100644 archive/site/README.md\n",
      "Enumerating objects: 8, done.\n",
      "Counting objects: 100% (8/8), done.\n",
      "Delta compression using up to 6 threads\n",
      "Compressing objects: 100% (4/4), done.\n",
      "Writing objects: 100% (5/5), 1.18 KiB | 75.00 KiB/s, done.\n",
      "Total 5 (delta 1), reused 0 (delta 0), pack-reused 0\n",
      "remote: Resolving deltas: 100% (1/1), completed with 1 local object.\u001b[K\n",
      "To https://github.com/Ali-Khateb-1/-Innovation_Hub.git\n",
      "   86a1da8..0f7756f  main -> main\n"
     ]
    }
   ],
   "source": [
    "!cd /mnt/c/Users/ali/Desktop/Innovation_Hub_New && git add archive/site/README.md && git commit -m \"رفع README.md مع التعديلات الجديدة\" && git push origin main"
   ]
  },
  {
   "cell_type": "code",
   "execution_count": 17,
   "id": "72db1321",
   "metadata": {},
   "outputs": [
    {
     "name": "stdout",
     "output_type": "stream",
     "text": [
      "[main 920a1ec] Trigger GitHub Pages deployment\n",
      "Enumerating objects: 1, done.\n",
      "Counting objects: 100% (1/1), done.\n",
      "Writing objects: 100% (1/1), 209 bytes | 41.00 KiB/s, done.\n",
      "Total 1 (delta 0), reused 0 (delta 0), pack-reused 0\n",
      "To https://github.com/Ali-Khateb-1/-Innovation_Hub.git\n",
      "   0f7756f..920a1ec  main -> main\n"
     ]
    }
   ],
   "source": [
    " !cd /mnt/c/Users/ali/Desktop/Innovation_Hub_New && git commit --allow-empty -m \"Trigger GitHub Pages deployment\" && git push origin main"
   ]
  },
  {
   "cell_type": "code",
   "execution_count": 18,
   "id": "1e701d8f",
   "metadata": {},
   "outputs": [
    {
     "name": "stdout",
     "output_type": "stream",
     "text": [
      "[main 4788762] Trigger GitHub Pages deployment\n",
      "Enumerating objects: 1, done.\n",
      "Counting objects: 100% (1/1), done.\n",
      "Writing objects: 100% (1/1), 208 bytes | 34.00 KiB/s, done.\n",
      "Total 1 (delta 0), reused 0 (delta 0), pack-reused 0\n",
      "To https://github.com/Ali-Khateb-1/-Innovation_Hub.git\n",
      "   920a1ec..4788762  main -> main\n"
     ]
    }
   ],
   "source": [
    "!cd /mnt/c/Users/ali/Desktop/Innovation_Hub_New && git commit --allow-empty -m \"Trigger GitHub Pages deployment\" && git push origin main"
   ]
  },
  {
   "cell_type": "code",
   "execution_count": 19,
   "id": "be02a20d",
   "metadata": {},
   "outputs": [
    {
     "name": "stdout",
     "output_type": "stream",
     "text": [
      "[main 9baa809] Trigger GitHub Pages deployment\n",
      "Enumerating objects: 1, done.\n",
      "Counting objects: 100% (1/1), done.\n",
      "Writing objects: 100% (1/1), 211 bytes | 21.00 KiB/s, done.\n",
      "Total 1 (delta 0), reused 0 (delta 0), pack-reused 0\n",
      "To https://github.com/Ali-Khateb-1/-Innovation_Hub.git\n",
      "   4788762..9baa809  main -> main\n"
     ]
    }
   ],
   "source": [
    "!cd /mnt/c/Users/ali/Desktop/Innovation_Hub_New && git commit --allow-empty -m \"Trigger GitHub Pages deployment\" && git push origin main\n"
   ]
  },
  {
   "cell_type": "code",
   "execution_count": 20,
   "id": "c88765a6",
   "metadata": {},
   "outputs": [],
   "source": [
    "with open(\"index.html\", \"w\") as f:\n",
    "    f.write('<meta http-equiv=\"refresh\" content=\"0;url=https://Ali-Khateb-1.github.io/Innovation_Hub_New/\" />')\n",
    "    "
   ]
  },
  {
   "cell_type": "code",
   "execution_count": 21,
   "id": "6218d9c8",
   "metadata": {},
   "outputs": [
    {
     "name": "stdout",
     "output_type": "stream",
     "text": [
      "[main adb2958] Added redirect meta refresh\n",
      " 1 file changed, 1 insertion(+), 107 deletions(-)\n",
      "Enumerating objects: 5, done.\n",
      "Counting objects: 100% (5/5), done.\n",
      "Delta compression using up to 6 threads\n",
      "Compressing objects: 100% (3/3), done.\n",
      "Writing objects: 100% (3/3), 356 bytes | 50.00 KiB/s, done.\n",
      "Total 3 (delta 1), reused 0 (delta 0), pack-reused 0\n",
      "remote: Resolving deltas: 100% (1/1), completed with 1 local object.\u001b[K\n",
      "To https://github.com/Ali-Khateb-1/-Innovation_Hub.git\n",
      "   2d4d50a..adb2958  main -> main\n"
     ]
    }
   ],
   "source": [
    "!git add index.html\n",
    "!git commit -m \"Added redirect meta refresh\"\n",
    "!git push origin main"
   ]
  },
  {
   "cell_type": "code",
   "execution_count": 22,
   "id": "781f2fac",
   "metadata": {},
   "outputs": [
    {
     "ename": "SyntaxError",
     "evalue": "(unicode error) 'unicodeescape' codec can't decode bytes in position 2-3: truncated \\UXXXXXXXX escape (4067714795.py, line 1)",
     "output_type": "error",
     "traceback": [
      "\u001b[0;36m  Cell \u001b[0;32mIn[22], line 1\u001b[0;36m\u001b[0m\n\u001b[0;31m    cd \"C:\\Users\\ali\\Desktop\\Innovation_Hub_New\"\u001b[0m\n\u001b[0m       ^\u001b[0m\n\u001b[0;31mSyntaxError\u001b[0m\u001b[0;31m:\u001b[0m (unicode error) 'unicodeescape' codec can't decode bytes in position 2-3: truncated \\UXXXXXXXX escape\n"
     ]
    }
   ],
   "source": [
    "cd \"C:\\Users\\ali\\Desktop\\Innovation_Hub_New\"\n",
    "git add index.html\n",
    "git commit -m \"Updated index.html\"\n",
    "git push origin main"
   ]
  },
  {
   "cell_type": "code",
   "execution_count": 23,
   "id": "51c3899e",
   "metadata": {},
   "outputs": [],
   "source": [
    "!cd /mnt/c/Users/ali/Desktop/Innovation_Hub_New"
   ]
  },
  {
   "cell_type": "code",
   "execution_count": 24,
   "id": "020de654",
   "metadata": {},
   "outputs": [
    {
     "name": "stdout",
     "output_type": "stream",
     "text": [
      "On branch main\n",
      "Changes not staged for commit:\n",
      "  (use \"git add <file>...\" to update what will be committed)\n",
      "  (use \"git restore <file>...\" to discard changes in working directory)\n",
      "\t\u001b[31mmodified:   Main Repository Governance-checkpoint.ipynb\u001b[m\n",
      "\t\u001b[31mmodified:   archive/site/requirements.txt\u001b[m\n",
      "\n",
      "Untracked files:\n",
      "  (use \"git add <file>...\" to include in what will be committed)\n",
      "\t\u001b[31m.github/\u001b[m\n",
      "\n",
      "no changes added to commit (use \"git add\" and/or \"git commit -a\")\n",
      "Everything up-to-date\n"
     ]
    }
   ],
   "source": [
    "!git add index.html\n",
    "!git commit -m \"Updated index.html\"\n",
    "!git push origin main"
   ]
  },
  {
   "cell_type": "code",
   "execution_count": 25,
   "id": "e7920c3e",
   "metadata": {},
   "outputs": [],
   "source": [
    "with open(\"update_pages.sh\", \"w\") as f:\n",
    "    f.write(\"\"\"#!/bin/bash\n",
    "cd /mnt/c/Users/ali/Desktop/Innovation_Hub_New\n",
    "git add index.html\n",
    "git commit -m \"Ensuring correct deployment for GitHub Pages\"\n",
    "git push origin main\n",
    "echo \"GitHub Pages update completed!\"\n",
    "\"\"\")"
   ]
  },
  {
   "cell_type": "code",
   "execution_count": 26,
   "id": "81341d7a",
   "metadata": {},
   "outputs": [],
   "source": [
    "!chmod +x update_pages.sh\n"
   ]
  },
  {
   "cell_type": "code",
   "execution_count": 27,
   "id": "63a934f8",
   "metadata": {},
   "outputs": [
    {
     "name": "stdout",
     "output_type": "stream",
     "text": [
      "On branch main\n",
      "Untracked files:\n",
      "  (use \"git add <file>...\" to include in what will be committed)\n",
      "\t\u001b[31mupdate_pages.sh\u001b[m\n",
      "\n",
      "nothing added to commit but untracked files present (use \"git add\" to track)\n",
      "Everything up-to-date\n",
      "GitHub Pages update completed!\n"
     ]
    }
   ],
   "source": [
    "!./update_pages.sh"
   ]
  },
  {
   "cell_type": "code",
   "execution_count": 28,
   "id": "99ce13a1",
   "metadata": {},
   "outputs": [
    {
     "name": "stdout",
     "output_type": "stream",
     "text": [
      "[main e42dc18] Added update_pages.sh script for GitHub Pages automation\n",
      " 1 file changed, 6 insertions(+)\n",
      " create mode 100644 update_pages.sh\n",
      "Enumerating objects: 4, done.\n",
      "Counting objects: 100% (4/4), done.\n",
      "Delta compression using up to 6 threads\n",
      "Compressing objects: 100% (3/3), done.\n",
      "Writing objects: 100% (3/3), 467 bytes | 33.00 KiB/s, done.\n",
      "Total 3 (delta 1), reused 0 (delta 0), pack-reused 0\n",
      "remote: Resolving deltas: 100% (1/1), completed with 1 local object.\u001b[K\n",
      "To https://github.com/Ali-Khateb-1/-Innovation_Hub.git\n",
      "   38b3a89..e42dc18  main -> main\n"
     ]
    }
   ],
   "source": [
    " !git add update_pages.sh\n",
    "!git commit -m \"Added update_pages.sh script for GitHub Pages automation\"\n",
    "!git push origin main"
   ]
  },
  {
   "cell_type": "code",
   "execution_count": 29,
   "id": "2752523d",
   "metadata": {},
   "outputs": [
    {
     "name": "stdout",
     "output_type": "stream",
     "text": [
      "On branch main\r\n",
      "Changes not staged for commit:\r\n",
      "  (use \"git add <file>...\" to update what will be committed)\r\n",
      "  (use \"git restore <file>...\" to discard changes in working directory)\r\n",
      "\t\u001b[31mmodified:   Main Repository Governance-checkpoint.ipynb\u001b[m\r\n",
      "\r\n",
      "no changes added to commit (use \"git add\" and/or \"git commit -a\")\r\n"
     ]
    }
   ],
   "source": [
    "!git status"
   ]
  },
  {
   "cell_type": "code",
   "execution_count": 30,
   "id": "98b6d261",
   "metadata": {},
   "outputs": [
    {
     "name": "stdout",
     "output_type": "stream",
     "text": [
      "[main 10380dd] Finalizing changes for GitHub Pages deployment\n",
      " 1 file changed, 107 insertions(+), 24 deletions(-)\n",
      "Enumerating objects: 5, done.\n",
      "Counting objects: 100% (5/5), done.\n",
      "Delta compression using up to 6 threads\n",
      "Compressing objects: 100% (3/3), done.\n",
      "Writing objects: 100% (3/3), 1.10 KiB | 160.00 KiB/s, done.\n",
      "Total 3 (delta 2), reused 0 (delta 0), pack-reused 0\n",
      "remote: Resolving deltas: 100% (2/2), completed with 2 local objects.\u001b[K\n",
      "To https://github.com/Ali-Khateb-1/-Innovation_Hub.git\n",
      "   e42dc18..10380dd  main -> main\n"
     ]
    }
   ],
   "source": [
    "!git add .\n",
    "!git commit -m \"Finalizing changes for GitHub Pages deployment\"\n",
    "!git push origin main"
   ]
  },
  {
   "cell_type": "code",
   "execution_count": 31,
   "id": "245a323e",
   "metadata": {},
   "outputs": [],
   "source": [
    "with open(\"_config.yml\", \"w\") as f:\n",
    "    f.write(\"theme: jekyll-theme-minimal\\n\")"
   ]
  },
  {
   "cell_type": "code",
   "execution_count": 32,
   "id": "0deb875b",
   "metadata": {},
   "outputs": [],
   "source": [
    "!git add _config.yml"
   ]
  },
  {
   "cell_type": "code",
   "execution_count": 33,
   "id": "dd7aa53d",
   "metadata": {},
   "outputs": [
    {
     "name": "stdout",
     "output_type": "stream",
     "text": [
      "[main 3cd31e9] Added Jekyll theme configuration\r\n",
      " 1 file changed, 1 insertion(+)\r\n",
      " create mode 100644 _config.yml\r\n"
     ]
    }
   ],
   "source": [
    "!git commit -m \"Added Jekyll theme configuration\""
   ]
  },
  {
   "cell_type": "code",
   "execution_count": 34,
   "id": "00388c42",
   "metadata": {},
   "outputs": [
    {
     "name": "stdout",
     "output_type": "stream",
     "text": [
      "Enumerating objects: 4, done.\n",
      "Counting objects: 100% (4/4), done.\n",
      "Delta compression using up to 6 threads\n",
      "Compressing objects: 100% (2/2), done.\n",
      "Writing objects: 100% (3/3), 319 bytes | 45.00 KiB/s, done.\n",
      "Total 3 (delta 1), reused 0 (delta 0), pack-reused 0\n",
      "remote: Resolving deltas: 100% (1/1), completed with 1 local object.\u001b[K\n",
      "To https://github.com/Ali-Khateb-1/-Innovation_Hub.git\n",
      "   7df31ad..3cd31e9  main -> main\n"
     ]
    }
   ],
   "source": [
    "!git push origin main"
   ]
  },
  {
   "cell_type": "code",
   "execution_count": 35,
   "id": "1590e559",
   "metadata": {},
   "outputs": [],
   "source": [
    "!mkdir docs"
   ]
  },
  {
   "cell_type": "code",
   "execution_count": 36,
   "id": "71df403a",
   "metadata": {},
   "outputs": [],
   "source": [
    "with open(\"docs/index.html\", \"w\") as f:\n",
    "    f.write(\"<!DOCTYPE html><html><head><title>Innovation Hub</title></head><body><h1>Welcome to Innovation Hub!</h1></body></html>\")"
   ]
  },
  {
   "cell_type": "code",
   "execution_count": 37,
   "id": "02e793b9",
   "metadata": {},
   "outputs": [],
   "source": [
    "with open(\"_config.yml\", \"w\") as f:\n",
    "    f.write(\"theme: jekyll-theme-minimal\\nsource: docs\\n\")"
   ]
  },
  {
   "cell_type": "code",
   "execution_count": 38,
   "id": "a9b3dcfa",
   "metadata": {},
   "outputs": [],
   "source": [
    "!git add docs/index.html _config.yml"
   ]
  },
  {
   "cell_type": "code",
   "execution_count": 39,
   "id": "9f1e9924",
   "metadata": {},
   "outputs": [
    {
     "name": "stdout",
     "output_type": "stream",
     "text": [
      "[main 29fc0f0] Fixed GitHub Pages source directory issue\r\n",
      " 2 files changed, 2 insertions(+)\r\n",
      " create mode 100644 docs/index.html\r\n"
     ]
    }
   ],
   "source": [
    "!git commit -m \"Fixed GitHub Pages source directory issue\""
   ]
  },
  {
   "cell_type": "code",
   "execution_count": 40,
   "id": "0587bd12",
   "metadata": {},
   "outputs": [
    {
     "name": "stdout",
     "output_type": "stream",
     "text": [
      "Enumerating objects: 7, done.\n",
      "Counting objects: 100% (7/7), done.\n",
      "Delta compression using up to 6 threads\n",
      "Compressing objects: 100% (3/3), done.\n",
      "Writing objects: 100% (5/5), 503 bytes | 33.00 KiB/s, done.\n",
      "Total 5 (delta 1), reused 0 (delta 0), pack-reused 0\n",
      "remote: Resolving deltas: 100% (1/1), completed with 1 local object.\u001b[K\n",
      "To https://github.com/Ali-Khateb-1/-Innovation_Hub.git\n",
      "   3cd31e9..29fc0f0  main -> main\n"
     ]
    }
   ],
   "source": [
    "!git push origin main"
   ]
  },
  {
   "cell_type": "code",
   "execution_count": 41,
   "id": "7eee33e6",
   "metadata": {},
   "outputs": [],
   "source": [
    "with open(\"docs/index.html\", \"w\") as f:\n",
    "    f.write(\"\"\"<!DOCTYPE html>\n",
    "<html>\n",
    "<head><title>Innovation Hub</title></head>\n",
    "<body><h1>Welcome to Innovation Hub!</h1></body>\n",
    "</html>\"\"\")"
   ]
  },
  {
   "cell_type": "code",
   "execution_count": 42,
   "id": "1fec7372",
   "metadata": {},
   "outputs": [],
   "source": [
    "with open(\"_config.yml\", \"w\") as f:\n",
    "    f.write(\"theme: jekyll-theme-minimal\\nsource: docs\\n\")"
   ]
  },
  {
   "cell_type": "code",
   "execution_count": 43,
   "id": "b0de7e88",
   "metadata": {},
   "outputs": [],
   "source": [
    "with open(\"_config.yml\", \"w\") as f:\n",
    "    f.write(\"theme: jekyll-theme-minimal\\nsource: docs\\n\")"
   ]
  },
  {
   "cell_type": "code",
   "execution_count": 44,
   "id": "705fd6ca",
   "metadata": {},
   "outputs": [
    {
     "name": "stdout",
     "output_type": "stream",
     "text": [
      "[main 58fdd50] Fixed GitHub Pages source directory issue\n",
      " 1 file changed, 5 insertions(+), 1 deletion(-)\n",
      "Enumerating objects: 7, done.\n",
      "Counting objects: 100% (7/7), done.\n",
      "Delta compression using up to 6 threads\n",
      "Compressing objects: 100% (3/3), done.\n",
      "Writing objects: 100% (4/4), 426 bytes | 35.00 KiB/s, done.\n",
      "Total 4 (delta 1), reused 0 (delta 0), pack-reused 0\n",
      "remote: Resolving deltas: 100% (1/1), completed with 1 local object.\u001b[K\n",
      "To https://github.com/Ali-Khateb-1/-Innovation_Hub.git\n",
      "   29fc0f0..58fdd50  main -> main\n"
     ]
    }
   ],
   "source": [
    "!git add docs/index.html _config.yml\n",
    "!git commit -m \"Fixed GitHub Pages source directory issue\"\n",
    "!git push origin main"
   ]
  },
  {
   "cell_type": "code",
   "execution_count": 45,
   "id": "c7fdb999",
   "metadata": {},
   "outputs": [],
   "source": [
    "with open(\"docs/index.html\", \"w\") as f:\n",
    "    f.write(\"\"\"<!DOCTYPE html>\n",
    "<html>\n",
    "<head>\n",
    "    <title>Innovation Hub</title>\n",
    "    <link rel=\"stylesheet\" href=\"style.css\">\n",
    "</head>\n",
    "<body>\n",
    "    <h1>مرحبًا بك في Innovation Hub!</h1>\n",
    "    <p>استكشاف التقنيات الحديثة والابتكارات الرائدة.</p>\n",
    "    <a href=\"explore.html\">ابدأ الاستكشاف</a>\n",
    "</body>\n",
    "</html>\"\"\")"
   ]
  },
  {
   "cell_type": "code",
   "execution_count": 46,
   "id": "bf6422b8",
   "metadata": {},
   "outputs": [],
   "source": [
    "!git add docs/index.html"
   ]
  },
  {
   "cell_type": "code",
   "execution_count": 47,
   "id": "94f2de52",
   "metadata": {},
   "outputs": [
    {
     "name": "stdout",
     "output_type": "stream",
     "text": [
      "[main 1c38cd0] Updated homepage content\r\n",
      " 1 file changed, 9 insertions(+), 2 deletions(-)\r\n"
     ]
    }
   ],
   "source": [
    "!git commit -m \"Updated homepage content\""
   ]
  },
  {
   "cell_type": "code",
   "execution_count": 48,
   "id": "0a8c5d22",
   "metadata": {},
   "outputs": [
    {
     "name": "stdout",
     "output_type": "stream",
     "text": [
      "Enumerating objects: 7, done.\n",
      "Counting objects: 100% (7/7), done.\n",
      "Delta compression using up to 6 threads\n",
      "Compressing objects: 100% (3/3), done.\n",
      "Writing objects: 100% (4/4), 554 bytes | 55.00 KiB/s, done.\n",
      "Total 4 (delta 1), reused 0 (delta 0), pack-reused 0\n",
      "remote: Resolving deltas: 100% (1/1), completed with 1 local object.\u001b[K\n",
      "To https://github.com/Ali-Khateb-1/-Innovation_Hub.git\n",
      "   58fdd50..1c38cd0  main -> main\n"
     ]
    }
   ],
   "source": [
    "!git push origin main"
   ]
  },
  {
   "cell_type": "code",
   "execution_count": 49,
   "id": "9a2188dd",
   "metadata": {},
   "outputs": [],
   "source": [
    "with open(\"docs/index.html\", \"w\") as f:\n",
    "    f.write(\"\"\"<!DOCTYPE html>\n",
    "<html>\n",
    "<head>\n",
    "    <title>Innovation Hub</title>\n",
    "    <link rel=\"stylesheet\" href=\"style.css\">\n",
    "</head>\n",
    "<body>\n",
    "    <h1>مرحبًا بك في Innovation Hub!</h1>\n",
    "    <p>استكشاف التقنيات الحديثة والابتكارات الرائدة.</p>\n",
    "    <a href=\"explore.html\">ابدأ الاستكشاف</a>\n",
    "</body>\n",
    "</html>\"\"\")"
   ]
  },
  {
   "cell_type": "code",
   "execution_count": 50,
   "id": "636af64b",
   "metadata": {},
   "outputs": [
    {
     "name": "stdout",
     "output_type": "stream",
     "text": [
      "True\n"
     ]
    }
   ],
   "source": [
    "import os\n",
    "print(os.path.exists(\"docs/index.html\"))"
   ]
  },
  {
   "cell_type": "code",
   "execution_count": 51,
   "id": "a6b31410",
   "metadata": {},
   "outputs": [
    {
     "name": "stdout",
     "output_type": "stream",
     "text": [
      "<!DOCTYPE html>\n",
      "<html>\n",
      "<head>\n",
      "    <title>Innovation Hub</title>\n",
      "    <link rel=\"stylesheet\" href=\"style.css\">\n",
      "</head>\n",
      "<body>\n",
      "    <h1>مرحبًا بك في Innovation Hub!</h1>\n",
      "    <p>استكشاف التقنيات الحديثة والابتكارات الرائدة.</p>\n",
      "    <a href=\"explore.html\">ابدأ الاستكشاف</a>\n",
      "</body>\n",
      "</html>\n"
     ]
    }
   ],
   "source": [
    "with open(\"docs/index.html\", \"r\") as f:\n",
    "    print(f.read())"
   ]
  },
  {
   "cell_type": "code",
   "execution_count": 52,
   "id": "75927aaa",
   "metadata": {},
   "outputs": [
    {
     "name": "stdout",
     "output_type": "stream",
     "text": [
      "On branch main\n",
      "Changes not staged for commit:\n",
      "  (use \"git add <file>...\" to update what will be committed)\n",
      "  (use \"git restore <file>...\" to discard changes in working directory)\n",
      "\t\u001b[31mmodified:   Main Repository Governance-checkpoint.ipynb\u001b[m\n",
      "\n",
      "Untracked files:\n",
      "  (use \"git add <file>...\" to include in what will be committed)\n",
      "\t\u001b[31mmain\u001b[m\n",
      "\n",
      "no changes added to commit (use \"git add\" and/or \"git commit -a\")\n",
      "Everything up-to-date\n"
     ]
    }
   ],
   "source": [
    "!git add docs/index.html\n",
    "!git commit -m \"Updated homepage content to match main repository\"\n",
    "!git push origin main"
   ]
  },
  {
   "cell_type": "code",
   "execution_count": 53,
   "id": "3871e7cf",
   "metadata": {},
   "outputs": [],
   "source": [
    "!git add docs/index.html \"Main Repository Governance-checkpoint.ipynb\" main"
   ]
  },
  {
   "cell_type": "code",
   "execution_count": 54,
   "id": "93fa28b8",
   "metadata": {},
   "outputs": [
    {
     "name": "stdout",
     "output_type": "stream",
     "text": [
      "[main c350a7b] Updated homepage content to match main repository\n",
      " 2 files changed, 486 insertions(+), 29 deletions(-)\n",
      " create mode 100644 main\n",
      "Enumerating objects: 6, done.\n",
      "Counting objects: 100% (6/6), done.\n",
      "Delta compression using up to 6 threads\n",
      "Compressing objects: 100% (3/3), done.\n",
      "Writing objects: 100% (4/4), 2.23 KiB | 152.00 KiB/s, done.\n",
      "Total 4 (delta 2), reused 0 (delta 0), pack-reused 0\n",
      "remote: Resolving deltas: 100% (2/2), completed with 2 local objects.\u001b[K\n",
      "To https://github.com/Ali-Khateb-1/-Innovation_Hub.git\n",
      "   1c38cd0..c350a7b  main -> main\n"
     ]
    }
   ],
   "source": [
    "!git commit -m \"Updated homepage content to match main repository\"\n",
    "!git push origin main"
   ]
  },
  {
   "cell_type": "code",
   "execution_count": 55,
   "id": "3e8b982f",
   "metadata": {},
   "outputs": [
    {
     "name": "stdout",
     "output_type": "stream",
     "text": [
      "['.git', '.github', '.gitmodules', '.ipynb_checkpoints', 'archive', 'Classification_of_flower_structure_TM1', 'CNAME', 'desktop.ini', 'docs', 'Full_Stack_Framework', 'index.html', 'main', 'Main Repository Governance-checkpoint.ipynb', 'README.md', 'update_pages.sh', '_config.yml']\n"
     ]
    }
   ],
   "source": [
    "import os\n",
    "print(os.listdir(\".\"))\n"
   ]
  },
  {
   "cell_type": "code",
   "execution_count": 56,
   "id": "0b8cb9f6",
   "metadata": {},
   "outputs": [
    {
     "ename": "SyntaxError",
     "evalue": "invalid syntax (1501994493.py, line 1)",
     "output_type": "error",
     "traceback": [
      "\u001b[0;36m  Cell \u001b[0;32mIn[56], line 1\u001b[0;36m\u001b[0m\n\u001b[0;31m    git add index.html\u001b[0m\n\u001b[0m        ^\u001b[0m\n\u001b[0;31mSyntaxError\u001b[0m\u001b[0;31m:\u001b[0m invalid syntax\n"
     ]
    }
   ],
   "source": [
    "git add index.html\n",
    "git commit -m \"Updated index.html with new AI innovation content\"\n",
    "git push origin main"
   ]
  },
  {
   "cell_type": "code",
   "execution_count": 57,
   "id": "983d8033",
   "metadata": {},
   "outputs": [
    {
     "name": "stdout",
     "output_type": "stream",
     "text": [
      "On branch main\n",
      "Changes not staged for commit:\n",
      "  (use \"git add <file>...\" to update what will be committed)\n",
      "  (use \"git restore <file>...\" to discard changes in working directory)\n",
      "\t\u001b[31mmodified:   Main Repository Governance-checkpoint.ipynb\u001b[m\n",
      "\n",
      "no changes added to commit (use \"git add\" and/or \"git commit -a\")\n",
      "Everything up-to-date\n"
     ]
    }
   ],
   "source": [
    "!git add index.html\n",
    "!git commit -m \"Updated index.html with new AI innovation content\"\n",
    "!git push origin main"
   ]
  },
  {
   "cell_type": "code",
   "execution_count": null,
   "id": "215f79e2",
   "metadata": {},
   "outputs": [],
   "source": []
  }
 ],
 "metadata": {
  "kernelspec": {
   "display_name": "Python 3 (ipykernel)",
   "language": "python",
   "name": "python3"
  },
  "language_info": {
   "codemirror_mode": {
    "name": "ipython",
    "version": 3
   },
   "file_extension": ".py",
   "mimetype": "text/x-python",
   "name": "python",
   "nbconvert_exporter": "python",
   "pygments_lexer": "ipython3",
   "version": "3.12.3"
  }
 },
 "nbformat": 4,
 "nbformat_minor": 5
}
