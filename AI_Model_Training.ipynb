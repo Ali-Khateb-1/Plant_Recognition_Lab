{
 "cells": [
  {
   "cell_type": "code",
   "execution_count": 1,
   "id": "e7b3963e-14c3-42e4-aeee-8ea4cc8f81fe",
   "metadata": {},
   "outputs": [
    {
     "name": "stdout",
     "output_type": "stream",
     "text": [
      "✅ تم حفظ السكربت في: /mnt/c/Users/ali/Desktop/STEAM_Nexus_Hub/Classification_of_flower_structure_TM1/Plant_Recognition_Lab/scripts/train_model.py\n"
     ]
    }
   ],
   "source": [
    "script_content = \"\"\" \n",
    "import tensorflow as tf\n",
    "import tensorflow_hub as hub\n",
    "import tensorflow_datasets as tfds\n",
    "\n",
    "# 🔹 تحميل بيانات الأزهار\n",
    "dataset_name = \"tf_flowers\"\n",
    "(train_data, test_data), dataset_info = tfds.load(\n",
    "    dataset_name, split=[\"train[:80%]\", \"train[80%:]\"], as_supervised=True, with_info=True\n",
    ")\n",
    "\n",
    "# 🔹 تجهيز البيانات\n",
    "def preprocess_image(image, label):\n",
    "    image = tf.image.resize(image, (224, 224)) / 255.0\n",
    "    return image, label\n",
    "\n",
    "train_data = train_data.map(preprocess_image).batch(32).shuffle(1000)\n",
    "test_data = test_data.map(preprocess_image).batch(32)\n",
    "\n",
    "# 🔹 بناء النموذج باستخدام MobileNet\n",
    "model = tf.keras.Sequential([\n",
    "    hub.KerasLayer(\"https://tfhub.dev/google/imagenet/mobilenet_v2_100_224/classification/5\", trainable=False),\n",
    "    tf.keras.layers.Flatten(),\n",
    "    tf.keras.layers.Dense(128, activation=\"relu\"),\n",
    "    tf.keras.layers.Dropout(0.3),\n",
    "    tf.keras.layers.Dense(dataset_info.features[\"label\"].num_classes, activation=\"softmax\")\n",
    "])\n",
    "\n",
    "# 🔹 تجميع النموذج\n",
    "model.compile(optimizer=\"adam\", loss=\"sparse_categorical_crossentropy\", metrics=[\"accuracy\"])\n",
    "\n",
    "# 🔹 إضافة سجل تدريبي\n",
    "early_stop = tf.keras.callbacks.EarlyStopping(monitor=\"val_loss\", patience=3, restore_best_weights=True)\n",
    "\n",
    "# 🔹 تدريب النموذج\n",
    "model.fit(train_data, epochs=15, validation_data=test_data, callbacks=[early_stop])\n",
    "\n",
    "# 🔹 حفظ النموذج في المسار الجديد\n",
    "model_path = \"/mnt/c/Users/ali/Desktop/STEAM_Nexus_Hub/Classification_of_flower_structure_TM1/Plant_Recognition_Lab/models/trained_model.h5\"\n",
    "model.save(model_path)\n",
    "\n",
    "print(f\"✅ تم حفظ النموذج المدرب في: {model_path}\")\n",
    "\"\"\"\n",
    "\n",
    "# 🔹 حفظ السكربت داخل WSL باستخدام Jupyter Notebook\n",
    "script_path = \"/mnt/c/Users/ali/Desktop/STEAM_Nexus_Hub/Classification_of_flower_structure_TM1/Plant_Recognition_Lab/scripts/train_model.py\"\n",
    "\n",
    "with open(script_path, \"w\", encoding=\"utf-8\") as f:\n",
    "    f.write(script_content)\n",
    "\n",
    "print(f\"✅ تم حفظ السكربت في: {script_path}\")"
   ]
  },
  {
   "cell_type": "code",
   "execution_count": 2,
   "id": "f4ca7c1f-226a-4298-8f55-22e2bcef1019",
   "metadata": {},
   "outputs": [
    {
     "name": "stdout",
     "output_type": "stream",
     "text": [
      "2025-05-31 18:07:25.726793: I tensorflow/core/util/port.cc:113] oneDNN custom operations are on. You may see slightly different numerical results due to floating-point round-off errors from different computation orders. To turn them off, set the environment variable `TF_ENABLE_ONEDNN_OPTS=0`.\n",
      "2025-05-31 18:07:25.933430: E external/local_xla/xla/stream_executor/cuda/cuda_dnn.cc:10575] Unable to register cuDNN factory: Attempting to register factory for plugin cuDNN when one has already been registered\n",
      "2025-05-31 18:07:25.933483: E external/local_xla/xla/stream_executor/cuda/cuda_fft.cc:479] Unable to register cuFFT factory: Attempting to register factory for plugin cuFFT when one has already been registered\n",
      "2025-05-31 18:07:26.039378: E external/local_xla/xla/stream_executor/cuda/cuda_blas.cc:1442] Unable to register cuBLAS factory: Attempting to register factory for plugin cuBLAS when one has already been registered\n",
      "2025-05-31 18:07:26.155668: I tensorflow/core/platform/cpu_feature_guard.cc:210] This TensorFlow binary is optimized to use available CPU instructions in performance-critical operations.\n",
      "To enable the following instructions: SSE4.1 SSE4.2 AVX AVX2 AVX512F AVX512_VNNI FMA, in other operations, rebuild TensorFlow with the appropriate compiler flags.\n",
      "2025-05-31 18:07:35.493837: I external/local_xla/xla/stream_executor/cuda/cuda_executor.cc:984] could not open file to read NUMA node: /sys/bus/pci/devices/0000:01:00.0/numa_node\n",
      "Your kernel may have been built without NUMA support.\n",
      "2025-05-31 18:07:36.093117: I external/local_xla/xla/stream_executor/cuda/cuda_executor.cc:984] could not open file to read NUMA node: /sys/bus/pci/devices/0000:01:00.0/numa_node\n",
      "Your kernel may have been built without NUMA support.\n",
      "2025-05-31 18:07:36.093236: I external/local_xla/xla/stream_executor/cuda/cuda_executor.cc:984] could not open file to read NUMA node: /sys/bus/pci/devices/0000:01:00.0/numa_node\n",
      "Your kernel may have been built without NUMA support.\n",
      "2025-05-31 18:07:36.098013: I external/local_xla/xla/stream_executor/cuda/cuda_executor.cc:984] could not open file to read NUMA node: /sys/bus/pci/devices/0000:01:00.0/numa_node\n",
      "Your kernel may have been built without NUMA support.\n",
      "2025-05-31 18:07:36.098182: I external/local_xla/xla/stream_executor/cuda/cuda_executor.cc:984] could not open file to read NUMA node: /sys/bus/pci/devices/0000:01:00.0/numa_node\n",
      "Your kernel may have been built without NUMA support.\n",
      "2025-05-31 18:07:36.098242: I external/local_xla/xla/stream_executor/cuda/cuda_executor.cc:984] could not open file to read NUMA node: /sys/bus/pci/devices/0000:01:00.0/numa_node\n",
      "Your kernel may have been built without NUMA support.\n",
      "2025-05-31 18:07:36.843729: I external/local_xla/xla/stream_executor/cuda/cuda_executor.cc:984] could not open file to read NUMA node: /sys/bus/pci/devices/0000:01:00.0/numa_node\n",
      "Your kernel may have been built without NUMA support.\n",
      "2025-05-31 18:07:36.844584: I external/local_xla/xla/stream_executor/cuda/cuda_executor.cc:984] could not open file to read NUMA node: /sys/bus/pci/devices/0000:01:00.0/numa_node\n",
      "Your kernel may have been built without NUMA support.\n",
      "2025-05-31 18:07:36.844632: I tensorflow/core/common_runtime/gpu/gpu_device.cc:2019] Could not identify NUMA node of platform GPU id 0, defaulting to 0.  Your kernel may not have been built with NUMA support.\n",
      "2025-05-31 18:07:36.844739: I external/local_xla/xla/stream_executor/cuda/cuda_executor.cc:984] could not open file to read NUMA node: /sys/bus/pci/devices/0000:01:00.0/numa_node\n",
      "Your kernel may have been built without NUMA support.\n",
      "2025-05-31 18:07:36.844791: I tensorflow/core/common_runtime/gpu/gpu_device.cc:1928] Created device /job:localhost/replica:0/task:0/device:GPU:0 with 1347 MB memory:  -> device: 0, name: NVIDIA GeForce MX450, pci bus id: 0000:01:00.0, compute capability: 7.5\n",
      "Traceback (most recent call last):\n",
      "  File \"/mnt/c/Users/ali/Desktop/STEAM_Nexus_Hub/Classification_of_flower_structure_TM1/Plant_Recognition_Lab/scripts/train_model.py\", line 21, in <module>\n",
      "    model = tf.keras.Sequential([\n",
      "  File \"/home/ali/anaconda3/envs/sf_env/lib/python3.10/site-packages/keras/src/models/sequential.py\", line 75, in __init__\n",
      "    self.add(layer, rebuild=False)\n",
      "  File \"/home/ali/anaconda3/envs/sf_env/lib/python3.10/site-packages/keras/src/models/sequential.py\", line 97, in add\n",
      "    raise ValueError(\n",
      "ValueError: Only instances of `keras.Layer` can be added to a Sequential model. Received: <tensorflow_hub.keras_layer.KerasLayer object at 0x7fa7aaf97910> (of type <class 'tensorflow_hub.keras_layer.KerasLayer'>)\n"
     ]
    }
   ],
   "source": [
    "!python3 /mnt/c/Users/ali/Desktop/STEAM_Nexus_Hub/Classification_of_flower_structure_TM1/Plant_Recognition_Lab/scripts/train_model.py"
   ]
  },
  {
   "cell_type": "raw",
   "id": "ecb55fa3-c440-46c4-9a12-8d70ed5dd896",
   "metadata": {},
   "source": [
    "import tensorflow as tf\n",
    "import tensorflow_hub as hub\n",
    "import tensorflow_datasets as tfds\n",
    "\n",
    "# 🔹 تحميل بيانات الأزهار\n",
    "dataset_name = \"tf_flowers\"\n",
    "(train_data, test_data), dataset_info = tfds.load(\n",
    "    dataset_name, split=[\"train[:80%]\", \"train[80%:]\"], as_supervised=True, with_info=True\n",
    ")\n",
    "\n",
    "# 🔹 تجهيز البيانات\n",
    "def preprocess_image(image, label):\n",
    "    image = tf.image.resize(image, (224, 224)) / 255.0\n",
    "    return image, label\n",
    "\n",
    "train_data = train_data.map(preprocess_image).batch(32).shuffle(1000)\n",
    "test_data = test_data.map(preprocess_image).batch(32)\n",
    "\n",
    "# 🔹 استخدام Functional API بدلاً من Sequential\n",
    "input_layer = tf.keras.layers.Input(shape=(224, 224, 3))\n",
    "hub_layer = hub.KerasLayer(\"https://tfhub.dev/google/imagenet/mobilenet_v2_100_224/classification/5\", trainable=False)(input_layer)\n",
    "flatten_layer = tf.keras.layers.Flatten()(hub_layer)\n",
    "dense_layer = tf.keras.layers.Dense(128, activation=\"relu\")(flatten_layer)\n",
    "dropout_layer = tf.keras.layers.Dropout(0.3)(dense_layer)\n",
    "output_layer = tf.keras.layers.Dense(dataset_info.features[\"label\"].num_classes, activation=\"softmax\")(dropout_layer)\n",
    "\n",
    "# 🔹 إنشاء النموذج باستخدام Functional API\n",
    "model = tf.keras.Model(inputs=input_layer, outputs=output_layer)\n",
    "\n",
    "# 🔹 تجميع النموذج\n",
    "model.compile(optimizer=\"adam\", loss=\"sparse_categorical_crossentropy\", metrics=[\"accuracy\"])\n",
    "\n",
    "# 🔹 تدريب النموذج\n",
    "model.fit(train_data, epochs=15, validation_data=test_data)\n",
    "\n",
    "# 🔹 حفظ النموذج\n",
    "model_path = \"/mnt/c/Users/ali/Desktop/STEAM_Nexus_Hub/Classification_of_flower_structure_TM1/Plant_Recognition_Lab/models/trained_model.h5\"\n",
    "model.save(model_path)\n",
    "\n",
    "print(f\"✅ تم حفظ النموذج المدرب في: {model_path}\")"
   ]
  },
  {
   "cell_type": "code",
   "execution_count": 4,
   "id": "53154bd1-314e-4400-93c6-bc3c8bb8321a",
   "metadata": {},
   "outputs": [
    {
     "name": "stdout",
     "output_type": "stream",
     "text": [
      "Epoch 1/15\n"
     ]
    },
    {
     "name": "stderr",
     "output_type": "stream",
     "text": [
      "2025-05-31 18:12:13.551303: I tensorflow/core/kernels/data/shuffle_dataset_op.cc:450] ShuffleDatasetV3:39: Filling up shuffle buffer (this may take a while): 51 of 1000\n",
      "2025-05-31 18:12:26.073250: I tensorflow/core/kernels/data/shuffle_dataset_op.cc:480] Shuffle buffer filled.\n",
      "WARNING: All log messages before absl::InitializeLog() is called are written to STDERR\n",
      "I0000 00:00:1748704346.295265    2591 service.cc:145] XLA service 0x7f9ae8024030 initialized for platform CUDA (this does not guarantee that XLA will be used). Devices:\n",
      "I0000 00:00:1748704346.311370    2591 service.cc:153]   StreamExecutor device (0): NVIDIA GeForce MX450, Compute Capability 7.5\n",
      "2025-05-31 18:12:27.147647: I tensorflow/compiler/mlir/tensorflow/utils/dump_mlir_util.cc:268] disabling MLIR crash reproducer, set env var `MLIR_CRASH_REPRODUCER_DIRECTORY` to enable.\n",
      "2025-05-31 18:12:29.864010: I external/local_xla/xla/stream_executor/cuda/cuda_dnn.cc:465] Loaded cuDNN version 8907\n",
      "2025-05-31 18:12:39.444732: E external/local_xla/xla/service/slow_operation_alarm.cc:65] Trying algorithm eng3{k11=2} for conv (f32[32,24,56,56]{3,2,1,0}, u8[0]{0}) custom-call(f32[32,96,56,56]{3,2,1,0}, f32[24,96,1,1]{3,2,1,0}), window={size=1x1}, dim_labels=bf01_oi01->bf01, custom_call_target=\"__cudnn$convForward\", backend_config={\"operation_queue_id\":\"0\",\"wait_on_operation_queues\":[],\"cudnn_conv_backend_config\":{\"activation_mode\":\"kNone\",\"conv_result_scale\":1,\"side_input_scale\":0,\"leakyrelu_alpha\":0}} is taking a while...\n",
      "2025-05-31 18:12:40.591819: E external/local_xla/xla/service/slow_operation_alarm.cc:133] The operation took 2.147580201s\n",
      "Trying algorithm eng3{k11=2} for conv (f32[32,24,56,56]{3,2,1,0}, u8[0]{0}) custom-call(f32[32,96,56,56]{3,2,1,0}, f32[24,96,1,1]{3,2,1,0}), window={size=1x1}, dim_labels=bf01_oi01->bf01, custom_call_target=\"__cudnn$convForward\", backend_config={\"operation_queue_id\":\"0\",\"wait_on_operation_queues\":[],\"cudnn_conv_backend_config\":{\"activation_mode\":\"kNone\",\"conv_result_scale\":1,\"side_input_scale\":0,\"leakyrelu_alpha\":0}} is taking a while...\n",
      "I0000 00:00:1748704372.268339    2591 device_compiler.h:188] Compiled cluster using XLA!  This line is logged at most once for the lifetime of the process.\n"
     ]
    },
    {
     "name": "stdout",
     "output_type": "stream",
     "text": [
      "\u001b[1m92/92\u001b[0m \u001b[32m━━━━━━━━━━━━━━━━━━━━\u001b[0m\u001b[37m\u001b[0m \u001b[1m95s\u001b[0m 449ms/step - accuracy: 0.6862 - loss: 0.9089 - val_accuracy: 0.8978 - val_loss: 0.2999\n",
      "Epoch 2/15\n"
     ]
    },
    {
     "name": "stderr",
     "output_type": "stream",
     "text": [
      "2025-05-31 18:13:45.983538: I tensorflow/core/kernels/data/shuffle_dataset_op.cc:450] ShuffleDatasetV3:39: Filling up shuffle buffer (this may take a while): 70 of 1000\n",
      "2025-05-31 18:13:47.713112: I tensorflow/core/kernels/data/shuffle_dataset_op.cc:480] Shuffle buffer filled.\n"
     ]
    },
    {
     "name": "stdout",
     "output_type": "stream",
     "text": [
      "\u001b[1m92/92\u001b[0m \u001b[32m━━━━━━━━━━━━━━━━━━━━\u001b[0m\u001b[37m\u001b[0m \u001b[1m27s\u001b[0m 128ms/step - accuracy: 0.8999 - loss: 0.2738 - val_accuracy: 0.9019 - val_loss: 0.2594\n",
      "Epoch 3/15\n",
      "\u001b[1m92/92\u001b[0m \u001b[32m━━━━━━━━━━━━━━━━━━━━\u001b[0m\u001b[37m\u001b[0m \u001b[1m51s\u001b[0m 449ms/step - accuracy: 0.9378 - loss: 0.1813 - val_accuracy: 0.9114 - val_loss: 0.2578\n",
      "Epoch 4/15\n"
     ]
    },
    {
     "name": "stderr",
     "output_type": "stream",
     "text": [
      "2025-05-31 18:15:01.011912: I tensorflow/core/kernels/data/shuffle_dataset_op.cc:450] ShuffleDatasetV3:39: Filling up shuffle buffer (this may take a while): 84 of 1000\n",
      "2025-05-31 18:15:03.055489: I tensorflow/core/kernels/data/shuffle_dataset_op.cc:480] Shuffle buffer filled.\n"
     ]
    },
    {
     "name": "stdout",
     "output_type": "stream",
     "text": [
      "\u001b[1m92/92\u001b[0m \u001b[32m━━━━━━━━━━━━━━━━━━━━\u001b[0m\u001b[37m\u001b[0m \u001b[1m50s\u001b[0m 412ms/step - accuracy: 0.9625 - loss: 0.1248 - val_accuracy: 0.9114 - val_loss: 0.2625\n",
      "Epoch 5/15\n"
     ]
    },
    {
     "name": "stderr",
     "output_type": "stream",
     "text": [
      "2025-05-31 18:15:51.310409: I tensorflow/core/kernels/data/shuffle_dataset_op.cc:450] ShuffleDatasetV3:39: Filling up shuffle buffer (this may take a while): 33 of 1000\n",
      "2025-05-31 18:16:01.377562: I tensorflow/core/kernels/data/shuffle_dataset_op.cc:450] ShuffleDatasetV3:39: Filling up shuffle buffer (this may take a while): 70 of 1000\n",
      "2025-05-31 18:16:06.214969: I tensorflow/core/kernels/data/shuffle_dataset_op.cc:480] Shuffle buffer filled.\n"
     ]
    },
    {
     "name": "stdout",
     "output_type": "stream",
     "text": [
      "\u001b[1m92/92\u001b[0m \u001b[32m━━━━━━━━━━━━━━━━━━━━\u001b[0m\u001b[37m\u001b[0m \u001b[1m47s\u001b[0m 237ms/step - accuracy: 0.9720 - loss: 0.0910 - val_accuracy: 0.9060 - val_loss: 0.2603\n",
      "Epoch 6/15\n"
     ]
    },
    {
     "name": "stderr",
     "output_type": "stream",
     "text": [
      "2025-05-31 18:16:38.783971: I tensorflow/core/kernels/data/shuffle_dataset_op.cc:450] ShuffleDatasetV3:39: Filling up shuffle buffer (this may take a while): 18 of 1000\n",
      "2025-05-31 18:16:50.426674: I tensorflow/core/kernels/data/shuffle_dataset_op.cc:450] ShuffleDatasetV3:39: Filling up shuffle buffer (this may take a while): 35 of 1000\n",
      "2025-05-31 18:17:09.907423: I tensorflow/core/kernels/data/shuffle_dataset_op.cc:450] ShuffleDatasetV3:39: Filling up shuffle buffer (this may take a while): 68 of 1000\n",
      "2025-05-31 18:17:19.898536: I tensorflow/core/kernels/data/shuffle_dataset_op.cc:480] Shuffle buffer filled.\n"
     ]
    },
    {
     "name": "stdout",
     "output_type": "stream",
     "text": [
      "\u001b[1m92/92\u001b[0m \u001b[32m━━━━━━━━━━━━━━━━━━━━\u001b[0m\u001b[37m\u001b[0m \u001b[1m83s\u001b[0m 344ms/step - accuracy: 0.9769 - loss: 0.0819 - val_accuracy: 0.9142 - val_loss: 0.2594\n",
      "Epoch 7/15\n",
      "\u001b[1m92/92\u001b[0m \u001b[32m━━━━━━━━━━━━━━━━━━━━\u001b[0m\u001b[37m\u001b[0m \u001b[1m21s\u001b[0m 149ms/step - accuracy: 0.9861 - loss: 0.0577 - val_accuracy: 0.9060 - val_loss: 0.2953\n",
      "Epoch 8/15\n",
      "\u001b[1m92/92\u001b[0m \u001b[32m━━━━━━━━━━━━━━━━━━━━\u001b[0m\u001b[37m\u001b[0m \u001b[1m12s\u001b[0m 116ms/step - accuracy: 0.9802 - loss: 0.0659 - val_accuracy: 0.9128 - val_loss: 0.2883\n",
      "Epoch 9/15\n",
      "\u001b[1m92/92\u001b[0m \u001b[32m━━━━━━━━━━━━━━━━━━━━\u001b[0m\u001b[37m\u001b[0m \u001b[1m11s\u001b[0m 116ms/step - accuracy: 0.9854 - loss: 0.0491 - val_accuracy: 0.9169 - val_loss: 0.2824\n",
      "Epoch 10/15\n",
      "\u001b[1m92/92\u001b[0m \u001b[32m━━━━━━━━━━━━━━━━━━━━\u001b[0m\u001b[37m\u001b[0m \u001b[1m11s\u001b[0m 116ms/step - accuracy: 0.9933 - loss: 0.0329 - val_accuracy: 0.9196 - val_loss: 0.2927\n",
      "Epoch 11/15\n",
      "\u001b[1m92/92\u001b[0m \u001b[32m━━━━━━━━━━━━━━━━━━━━\u001b[0m\u001b[37m\u001b[0m \u001b[1m12s\u001b[0m 118ms/step - accuracy: 0.9945 - loss: 0.0302 - val_accuracy: 0.9142 - val_loss: 0.3104\n",
      "Epoch 12/15\n",
      "\u001b[1m92/92\u001b[0m \u001b[32m━━━━━━━━━━━━━━━━━━━━\u001b[0m\u001b[37m\u001b[0m \u001b[1m12s\u001b[0m 121ms/step - accuracy: 0.9926 - loss: 0.0297 - val_accuracy: 0.9101 - val_loss: 0.3231\n",
      "Epoch 13/15\n",
      "\u001b[1m92/92\u001b[0m \u001b[32m━━━━━━━━━━━━━━━━━━━━\u001b[0m\u001b[37m\u001b[0m \u001b[1m13s\u001b[0m 129ms/step - accuracy: 0.9951 - loss: 0.0270 - val_accuracy: 0.9210 - val_loss: 0.3308\n",
      "Epoch 14/15\n",
      "\u001b[1m92/92\u001b[0m \u001b[32m━━━━━━━━━━━━━━━━━━━━\u001b[0m\u001b[37m\u001b[0m \u001b[1m14s\u001b[0m 136ms/step - accuracy: 0.9954 - loss: 0.0206 - val_accuracy: 0.9169 - val_loss: 0.3342\n",
      "Epoch 15/15\n",
      "\u001b[1m92/92\u001b[0m \u001b[32m━━━━━━━━━━━━━━━━━━━━\u001b[0m\u001b[37m\u001b[0m \u001b[1m14s\u001b[0m 135ms/step - accuracy: 0.9938 - loss: 0.0225 - val_accuracy: 0.9114 - val_loss: 0.3478\n"
     ]
    },
    {
     "name": "stderr",
     "output_type": "stream",
     "text": [
      "WARNING:absl:You are saving your model as an HDF5 file via `model.save()` or `keras.saving.save_model(model)`. This file format is considered legacy. We recommend using instead the native Keras format, e.g. `model.save('my_model.keras')` or `keras.saving.save_model(model, 'my_model.keras')`. \n"
     ]
    },
    {
     "name": "stdout",
     "output_type": "stream",
     "text": [
      "✅ تم حفظ النموذج المدرب في: /mnt/c/Users/ali/Desktop/STEAM_Nexus_Hub/Classification_of_flower_structure_TM1/Plant_Recognition_Lab/models/trained_model.h5\n"
     ]
    }
   ],
   "source": [
    "import tensorflow as tf\n",
    "import tensorflow_hub as hub\n",
    "import tensorflow_datasets as tfds\n",
    "\n",
    "# 🔹 تحميل بيانات الأزهار\n",
    "dataset_name = \"tf_flowers\"\n",
    "(train_data, test_data), dataset_info = tfds.load(\n",
    "    dataset_name, split=[\"train[:80%]\", \"train[80%:]\"], as_supervised=True, with_info=True\n",
    ")\n",
    "\n",
    "# 🔹 تجهيز البيانات\n",
    "def preprocess_image(image, label):\n",
    "    image = tf.image.resize(image, (224, 224)) / 255.0\n",
    "    return image, label\n",
    "\n",
    "train_data = train_data.map(preprocess_image).batch(32).shuffle(1000)\n",
    "test_data = test_data.map(preprocess_image).batch(32)\n",
    "\n",
    "# 🔹 استخدام Functional API مع Lambda Layer\n",
    "input_layer = tf.keras.layers.Input(shape=(224, 224, 3))\n",
    "hub_layer = hub.KerasLayer(\"https://tfhub.dev/google/imagenet/mobilenet_v2_100_224/classification/5\", trainable=False)\n",
    "processed_hub = tf.keras.layers.Lambda(lambda x: hub_layer(x))(input_layer)  # ✅ الحل هنا\n",
    "flatten_layer = tf.keras.layers.Flatten()(processed_hub)\n",
    "dense_layer = tf.keras.layers.Dense(128, activation=\"relu\")(flatten_layer)\n",
    "dropout_layer = tf.keras.layers.Dropout(0.3)(dense_layer)\n",
    "output_layer = tf.keras.layers.Dense(dataset_info.features[\"label\"].num_classes, activation=\"softmax\")(dropout_layer)\n",
    "\n",
    "# 🔹 إنشاء النموذج\n",
    "model = tf.keras.Model(inputs=input_layer, outputs=output_layer)\n",
    "\n",
    "# 🔹 تجميع النموذج\n",
    "model.compile(optimizer=\"adam\", loss=\"sparse_categorical_crossentropy\", metrics=[\"accuracy\"])\n",
    "\n",
    "# 🔹 تدريب النموذج\n",
    "model.fit(train_data, epochs=15, validation_data=test_data)\n",
    "\n",
    "# 🔹 حفظ النموذج\n",
    "model_path = \"/mnt/c/Users/ali/Desktop/STEAM_Nexus_Hub/Classification_of_flower_structure_TM1/Plant_Recognition_Lab/models/trained_model.h5\"\n",
    "model.save(model_path)\n",
    "\n",
    "print(f\"✅ تم حفظ النموذج المدرب في: {model_path}\")"
   ]
  },
  {
   "cell_type": "code",
   "execution_count": 5,
   "id": "cf9f0f73-c81b-4ed8-a728-f9c858f5bcb7",
   "metadata": {},
   "outputs": [
    {
     "name": "stdout",
     "output_type": "stream",
     "text": [
      "✅ تم حفظ السكربت في: /mnt/c/Users/ali/Desktop/STEAM_Nexus_Hub/Classification_of_flower_structure_TM1/Plant_Recognition_Lab/scripts/data_loader.py\n"
     ]
    }
   ],
   "source": [
    "script_content = \"\"\" \n",
    "import tensorflow as tf\n",
    "import tensorflow_datasets as tfds\n",
    "\n",
    "#   تحميل بيانات الأزهار\n",
    "dataset_name = \"tf_flowers\"\n",
    "(train_data, test_data), dataset_info = tfds.load(\n",
    "    dataset_name, split=[\"train[:80%]\", \"train[80%:]\"], as_supervised=True, with_info=True\n",
    ")\n",
    "\n",
    "#   تجهيز البيانات\n",
    "def preprocess_image(image, label):\n",
    "    image = tf.image.resize(image, (224, 224)) / 255.0\n",
    "    return image, label\n",
    "\n",
    "train_data = train_data.map(preprocess_image).batch(32).shuffle(1000)\n",
    "test_data = test_data.map(preprocess_image).batch(32)\n",
    "\n",
    "print(\"✅ تم تحميل البيانات ومعالجتها بنجاح!\")\n",
    "\"\"\"\n",
    "\n",
    "#  حفظ السكربت داخل `scripts/`\n",
    "script_path = \"/mnt/c/Users/ali/Desktop/STEAM_Nexus_Hub/Classification_of_flower_structure_TM1/Plant_Recognition_Lab/scripts/data_loader.py\"\n",
    "\n",
    "with open(script_path, \"w\", encoding=\"utf-8\") as f:\n",
    "    f.write(script_content)\n",
    "\n",
    "print(f\"✅ تم حفظ السكربت في: {script_path}\")"
   ]
  },
  {
   "cell_type": "code",
   "execution_count": null,
   "id": "dd392d2d-c434-4c6b-b94e-8fb0a1cad253",
   "metadata": {},
   "outputs": [],
   "source": []
  }
 ],
 "metadata": {
  "kernelspec": {
   "display_name": "Python 3 (ipykernel)",
   "language": "python",
   "name": "python3"
  },
  "language_info": {
   "codemirror_mode": {
    "name": "ipython",
    "version": 3
   },
   "file_extension": ".py",
   "mimetype": "text/x-python",
   "name": "python",
   "nbconvert_exporter": "python",
   "pygments_lexer": "ipython3",
   "version": "3.10.17"
  }
 },
 "nbformat": 4,
 "nbformat_minor": 5
}
